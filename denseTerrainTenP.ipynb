{
 "cells": [
  {
   "cell_type": "code",
   "execution_count": 9,
   "metadata": {
    "metadata": {}
   },
   "outputs": [],
   "source": [
    "#import libraries\n",
    "import matplotlib.pyplot as plt\n",
    "import pandas as pd\n",
    "import time\n",
    "from IPython.display import clear_output\n",
    "import csv\n",
    "\n",
    "#from stable_baselines3.common.policy import MlpPolicy\n",
    "from stable_baselines3.common.vec_env import DummyVecEnv\n",
    "#from stable_baselines3.common import make_vec_env\n",
    "from stable_baselines3 import PPO\n",
    "from stable_baselines3.common.env_checker import check_env\n",
    "\n",
    "import warnings\n",
    "warnings.filterwarnings('ignore')"
   ]
  },
  {
   "cell_type": "code",
   "execution_count": 1,
   "metadata": {
    "metadata": {}
   },
   "outputs": [
    {
     "name": "stdout",
     "output_type": "stream",
     "text": [
      "CR: -35\n",
      "CR: -35\n",
      "Eval Num: 42\n",
      "FULL EVAL\n",
      "Number of limited first locations: 42\n",
      "Number of limited second locations: 42\n",
      "CR: -35\n",
      "CR: -35\n",
      "Eval Num: 182\n",
      "FULL EVAL\n",
      "Number of limited first locations: 182\n",
      "Number of limited second locations: 182\n",
      "CR: -25\n",
      "CR: -35\n",
      "Eval Num: 240\n",
      "FULL EVAL\n",
      "Number of limited first locations: 240\n",
      "Number of limited second locations: 240\n",
      "CR: -35\n",
      "CR: -35\n",
      "Eval Num: 650\n",
      "FULL EVAL\n",
      "Number of limited first locations: 650\n",
      "Number of limited second locations: 650\n",
      "CR: -35\n",
      "CR: -35\n",
      "Eval Num: 870\n",
      "FULL EVAL\n",
      "Number of limited first locations: 870\n",
      "Number of limited second locations: 870\n",
      "CR: -35\n",
      "CR: -35\n",
      "Eval Num: 1406\n",
      "FULL EVAL\n",
      "Number of limited first locations: 1406\n",
      "Number of limited second locations: 1406\n",
      "CR: -35\n",
      "CR: -35\n",
      "Eval Num: 1722\n",
      "FULL EVAL\n",
      "Number of limited first locations: 1722\n",
      "Number of limited second locations: 1722\n",
      "CR: -35\n",
      "CR: -35\n",
      "Eval Num: 2550\n",
      "FULL EVAL\n",
      "Number of limited first locations: 2550\n",
      "Number of limited second locations: 2550\n",
      "CR: -35\n",
      "CR: -35\n",
      "Eval Num: 3080\n",
      "FULL EVAL\n",
      "Number of limited first locations: 3080\n",
      "Number of limited second locations: 3080\n",
      "locs: [(4, 9), (5, 9), (6, 9)]\n",
      "len: 3\n",
      "locs: [(4, 9), (5, 9), (6, 9)]\n",
      "len: 3\n",
      "locs: [(4, 9), (5, 9), (6, 9), (1, 8), (2, 8), (0, 8)]\n",
      "len: 6\n",
      "locs: [(4, 9), (5, 9), (6, 9), (1, 8), (2, 8), (0, 8)]\n",
      "len: 6\n",
      "locs: [(4, 9), (5, 9), (6, 9), (1, 8), (2, 8), (0, 8), (0, 7), (1, 7), (6, 7), (9, 7), (2, 7), (4, 7), (5, 7), (8, 7)]\n",
      "len: 14\n",
      "locs: [(4, 9), (5, 9), (6, 9), (1, 8), (2, 8), (0, 8), (0, 7), (1, 7), (6, 7), (9, 7), (2, 7), (4, 7), (5, 7), (8, 7)]\n",
      "len: 14\n",
      "locs: [(0, 7), (1, 7), (1, 8), (2, 8), (4, 9), (5, 9), (6, 7), (6, 9), (9, 7), (0, 8), (2, 7), (4, 7), (5, 7), (8, 7)]\n",
      "len: 14\n",
      "locs: [(4, 9), (5, 9), (6, 9), (1, 8), (2, 8), (0, 8), (0, 7), (1, 7), (6, 7), (9, 7), (2, 7), (4, 7), (5, 7), (8, 7)]\n",
      "len: 14\n",
      "locs: [(0, 7), (1, 7), (1, 8), (2, 8), (4, 9), (5, 9), (6, 7), (6, 9), (9, 7), (0, 8), (2, 7), (4, 7), (5, 7), (8, 7), (6, 5), (7, 5), (8, 5), (0, 5), (1, 5), (4, 5)]\n",
      "len: 20\n",
      "locs: [(0, 7), (1, 7), (1, 8), (2, 8), (4, 9), (5, 9), (6, 7), (6, 9), (9, 7), (0, 8), (2, 7), (4, 7), (5, 7), (8, 7), (6, 5), (7, 5), (8, 5), (0, 5), (1, 5), (4, 5)]\n",
      "len: 20\n",
      "locs: [(0, 7), (1, 7), (1, 8), (2, 8), (4, 9), (5, 9), (6, 7), (6, 9), (9, 7), (0, 8), (2, 7), (4, 7), (5, 7), (8, 7), (6, 5), (7, 5), (8, 5), (0, 5), (1, 5), (3, 4), (4, 4), (4, 5)]\n",
      "len: 22\n",
      "locs: [(0, 7), (1, 7), (1, 8), (2, 8), (4, 9), (5, 9), (6, 7), (6, 9), (9, 7), (0, 8), (2, 7), (4, 7), (5, 7), (8, 7), (6, 5), (7, 5), (8, 5), (0, 5), (1, 5), (3, 4), (4, 4), (4, 5)]\n",
      "len: 22\n",
      "locs: [(0, 7), (1, 7), (1, 8), (2, 8), (4, 9), (5, 9), (6, 7), (6, 9), (9, 7), (0, 8), (2, 7), (4, 7), (5, 7), (8, 7), (6, 5), (7, 5), (8, 5), (0, 5), (1, 5), (3, 4), (4, 4), (4, 5), (0, 3), (4, 3), (5, 3), (6, 3), (7, 3), (9, 3)]\n",
      "len: 28\n",
      "locs: [(0, 7), (1, 7), (1, 8), (2, 8), (4, 9), (5, 9), (6, 7), (6, 9), (9, 7), (0, 8), (2, 7), (4, 7), (5, 7), (8, 7), (6, 5), (7, 5), (8, 5), (0, 5), (1, 5), (3, 4), (4, 4), (4, 5), (0, 3), (4, 3), (5, 3), (6, 3), (7, 3), (9, 3)]\n",
      "len: 28\n",
      "locs: [(0, 7), (1, 7), (1, 8), (2, 8), (4, 9), (5, 9), (6, 7), (6, 9), (9, 7), (0, 8), (2, 7), (4, 7), (5, 7), (8, 7), (6, 5), (7, 5), (8, 5), (0, 5), (1, 5), (3, 4), (4, 4), (4, 5), (0, 3), (4, 3), (5, 3), (6, 3), (7, 3), (9, 3), (2, 2)]\n",
      "len: 29\n",
      "locs: [(0, 7), (1, 7), (1, 8), (2, 8), (4, 9), (5, 9), (6, 7), (6, 9), (9, 7), (0, 8), (2, 7), (4, 7), (5, 7), (8, 7), (6, 5), (7, 5), (8, 5), (0, 5), (1, 5), (3, 4), (4, 4), (4, 5), (0, 3), (4, 3), (5, 3), (6, 3), (7, 3), (9, 3), (2, 2)]\n",
      "len: 29\n",
      "locs: [(0, 7), (1, 7), (1, 8), (2, 8), (4, 9), (5, 9), (6, 7), (6, 9), (9, 7), (0, 8), (2, 7), (4, 7), (5, 7), (8, 7), (6, 5), (7, 5), (8, 5), (0, 5), (1, 5), (3, 4), (4, 4), (4, 5), (0, 3), (1, 1), (2, 2), (4, 1), (4, 3), (5, 1), (9, 1), (5, 3), (6, 3), (7, 1), (7, 3), (9, 3)]\n",
      "len: 34\n",
      "locs: [(0, 7), (1, 7), (1, 8), (2, 8), (4, 9), (5, 9), (6, 7), (6, 9), (9, 7), (0, 8), (2, 7), (4, 7), (5, 7), (8, 7), (6, 5), (7, 5), (8, 5), (0, 5), (1, 5), (3, 4), (4, 4), (4, 5), (0, 3), (1, 1), (2, 2), (4, 1), (4, 3), (5, 1), (9, 1), (5, 3), (6, 3), (7, 1), (7, 3), (9, 3)]\n",
      "len: 34\n",
      "[[0 1 0 2 4 4 4 0 0 0]\n",
      " [0 0 0 0 0 0 0 0 0 0]\n",
      " [0 0 0 0 0 0 0 0 0 0]\n",
      " [0 0 0 0 0 0 0 0 0 0]\n",
      " [0 0 0 0 0 0 0 0 0 0]\n",
      " [0 0 0 0 0 0 0 0 0 0]\n",
      " [0 0 0 0 0 0 0 0 0 0]\n",
      " [0 0 0 0 0 0 0 0 0 0]\n",
      " [0 0 0 0 0 0 0 0 0 0]\n",
      " [0 0 0 9 0 0 8 0 0 0]] \n",
      "\n",
      "Drone at goal: False\n",
      "Drone at goal: False\n"
     ]
    }
   ],
   "source": [
    "#import the environment\n",
    "import custom_environment_v22 as custom_environment\n",
    "#make the environment\n",
    "training_env = custom_environment.tenPTrainingEnv\n",
    "training_env.reset(randomReset=True)\n",
    "training_env.render()"
   ]
  },
  {
   "cell_type": "code",
   "execution_count": 11,
   "metadata": {
    "metadata": {}
   },
   "outputs": [
    {
     "name": "stdout",
     "output_type": "stream",
     "text": [
      "[[2 1 0 0 4 4 4 0 0 0]\n",
      " [0 0 0 0 0 0 0 0 0 0]\n",
      " [0 0 0 0 0 0 0 0 0 0]\n",
      " [0 0 0 0 0 0 0 0 0 0]\n",
      " [0 0 0 0 0 0 0 0 0 0]\n",
      " [0 0 0 0 0 0 0 0 0 0]\n",
      " [0 0 0 0 0 0 0 0 0 0]\n",
      " [0 0 0 0 0 0 0 0 0 0]\n",
      " [0 0 0 0 0 0 0 0 0 0]\n",
      " [0 0 0 9 0 0 8 0 0 0]] \n",
      "\n",
      "Drone at goal: False\n",
      "Drone at goal: False\n"
     ]
    }
   ],
   "source": [
    "from stable_baselines3.common.callbacks import EvalCallback\n",
    "\n",
    "# Separate evaluation env\n",
    "eval_env = custom_environment.tenPEvalEnv\n",
    "eval_env.reset(randomReset=False, scen=0)\n",
    "eval_env.render()\n",
    "\n",
    "best_model_save_name = './FULLdense_tenP_attempt1'\n",
    "log_file = './FULLdense_tenP_attempt1_log_files'\n",
    "\n",
    "eval_freq = 2000\n",
    "n_eval_episodes = 42\n",
    "\n",
    "# Use deterministic actions for evaluation\n",
    "eval_callback = EvalCallback(eval_env, best_model_save_path=best_model_save_name,\n",
    "                             log_path=log_file, eval_freq=eval_freq,\n",
    "                             deterministic=True, render=False, verbose=0, n_eval_episodes=n_eval_episodes)\n",
    "                             "
   ]
  },
  {
   "cell_type": "markdown",
   "metadata": {},
   "source": []
  },
  {
   "cell_type": "code",
   "execution_count": 12,
   "metadata": {
    "metadata": {}
   },
   "outputs": [
    {
     "name": "stdout",
     "output_type": "stream",
     "text": [
      "fixed scenario: 1\n"
     ]
    },
    {
     "data": {
      "text/plain": [
       "<stable_baselines3.ppo.ppo.PPO at 0x7fba61b373a0>"
      ]
     },
     "execution_count": 12,
     "metadata": {},
     "output_type": "execute_result"
    }
   ],
   "source": [
    "# Load the best model from previous training\n",
    "previous_best_model_save_path = './ten_by_ten_base5/best_model.zip'\n",
    "previous_best_model = PPO.load(previous_best_model_save_path)\n",
    "\n",
    "# Create a new PPO model for further training\n",
    "new_model = PPO(\"MlpPolicy\", training_env, verbose=0, tensorboard_log='./ppo_tensorboard')\n",
    "\n",
    "# Set the policy parameters of the new model to the ones from the best_model\n",
    "new_model.policy.load_state_dict(previous_best_model.policy.state_dict())\n",
    "\n",
    "training_env.reset()\n",
    "eval_env.reset(scen=1)\n",
    "\n",
    "# Continue training with the new model\n",
    "new_model.learn(total_timesteps=1000000, callback=eval_callback)"
   ]
  },
  {
   "cell_type": "code",
   "execution_count": 13,
   "metadata": {
    "metadata": {}
   },
   "outputs": [],
   "source": [
    "#load the best new model\n",
    "best_new_model_save_path = './FULLdense_tenP_attempt1/best_model.zip'\n",
    "best_new_model = PPO.load(best_new_model_save_path)\n",
    "best_new_model.set_env(eval_env, force_reset=True)"
   ]
  },
  {
   "cell_type": "code",
   "execution_count": 14,
   "metadata": {
    "metadata": {}
   },
   "outputs": [
    {
     "name": "stdout",
     "output_type": "stream",
     "text": [
      "Total successful episodes: 1000\n",
      "average system rewards: 177.437\n",
      "total crash count: 0\n",
      "episodes without crashes: 1000\n",
      "scenario_number: 1001\n"
     ]
    }
   ],
   "source": [
    "#open a csv file to write to to log results\n",
    "with open('testing.csv', mode='w') as file:\n",
    "    write = csv.writer(file)\n",
    "    #initialize the number of total successful episodes\n",
    "    total_successful_episodes = 0\n",
    "    total_system_rewards = 0\n",
    "    total_crash_count = 0\n",
    "    scenario_number=1\n",
    "    episodes_without_crashes = 0\n",
    "    #run x episodes\n",
    "    for episode in range(1000):\n",
    "        #reset the environment and store the initial observation\n",
    "        observations = eval_env.reset(randomReset=True, scen=0)\n",
    "        #print(observations)\n",
    "        #eval_env.render()\n",
    "        #reset total episode rewards\n",
    "        total_episode_rewards = 0\n",
    "        #set done to false and then complete the code below while the episode is not done\n",
    "        done = False\n",
    "        while not done: \n",
    "            action, _ = best_new_model.predict(observations, deterministic=True)\n",
    "            observations, rewards, termination, info = eval_env.step(action)\n",
    "            #print(observations)\n",
    "            #add the rewards to the total episode rewards\n",
    "            total_episode_rewards += rewards\n",
    "            #if all of the drones are terminated, set done to true\n",
    "            if termination == True:\n",
    "                done = True\n",
    "            #render the environment (save for when running a small amount of episodes)\n",
    "            #eval_env.render()\n",
    "            #add a time sleep for when rendering the environment so it doesn't go too fast\n",
    "            #time.sleep(.5)\n",
    "            #clear the output when rendering so it flashes as the environment is updated\n",
    "            #clear_output(wait=True)\n",
    "            #print(total_episode_rewards)\n",
    "        if info['reached_goals'] == True:\n",
    "            total_successful_episodes += 1\n",
    "        total_crash_count += info['crash_count']\n",
    "        if info['crash_count'] == 0:\n",
    "            episodes_without_crashes += 1\n",
    "        total_system_rewards += total_episode_rewards\n",
    "        #write the rewards to a csv file\n",
    "        write.writerow([(episode+1), total_episode_rewards])\n",
    "        scenario_number+=1\n",
    "print(\"Total successful episodes: {}\".format(total_successful_episodes))\n",
    "print(\"average system rewards: {}\".format(total_system_rewards/(episode+1)))\n",
    "print('total crash count:', total_crash_count)\n",
    "print('episodes without crashes:', episodes_without_crashes)\n",
    "\n",
    "print('scenario_number:', scenario_number)"
   ]
  },
  {
   "cell_type": "code",
   "execution_count": 15,
   "metadata": {
    "metadata": {}
   },
   "outputs": [
    {
     "data": {
      "image/png": "[encoded data removed]",
      "text/plain": [
       "<Figure size 640x480 with 1 Axes>"
      ]
     },
     "metadata": {},
     "output_type": "display_data"
    }
   ],
   "source": [
    "import pandas as pd\n",
    "import matplotlib.pyplot as plt\n",
    "\n",
    "# Plot the rewards from the CSV file\n",
    "df = pd.read_csv('testing.csv', header=None)\n",
    "\n",
    "# Plot the first column as the x-axis and the second column as the y-axis\n",
    "plt.scatter(df.iloc[:, 0], df.iloc[:, 1])\n",
    "plt.xlabel('Episode')\n",
    "plt.ylabel('Total rewards')\n",
    "plt.title('Total rewards per episode')\n",
    "plt.show()"
   ]
  }
 ],
 "metadata": {
  "kernelspec": {
   "display_name": "myEnv",
   "language": "python",
   "name": "python3"
  },
  "language_info": {
   "codemirror_mode": {
    "name": "ipython",
    "version": 3
   },
   "file_extension": ".py",
   "mimetype": "text/x-python",
   "name": "python",
   "nbconvert_exporter": "python",
   "pygments_lexer": "ipython3",
   "version": "3.8.0"
  }
 },
 "nbformat": 4,
 "nbformat_minor": 2
}
