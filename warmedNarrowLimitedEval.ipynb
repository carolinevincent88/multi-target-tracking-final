{
 "cells": [
  {
   "cell_type": "code",
   "execution_count": 1,
   "metadata": {
    "metadata": {}
   },
   "outputs": [],
   "source": [
    "#import libraries\n",
    "import matplotlib.pyplot as plt\n",
    "import pandas as pd\n",
    "import time\n",
    "from IPython.display import clear_output\n",
    "import csv\n",
    "\n",
    "#from stable_baselines3.common.policy import MlpPolicy\n",
    "from stable_baselines3.common.vec_env import DummyVecEnv\n",
    "#from stable_baselines3.common import make_vec_env\n",
    "from stable_baselines3 import PPO\n",
    "from stable_baselines3.common.env_checker import check_env\n",
    "\n",
    "import warnings\n",
    "warnings.filterwarnings('ignore')"
   ]
  },
  {
   "cell_type": "code",
   "execution_count": 2,
   "metadata": {
    "metadata": {}
   },
   "outputs": [
    {
     "name": "stdout",
     "output_type": "stream",
     "text": [
      "CR: -25\n",
      "CR: -25\n",
      "Number of full eval first locations: 306\n",
      "Number of full eval second locations: 306\n",
      "CR: -5\n",
      "Number of limited first locations: 77\n",
      "Number of limited second locations: 77\n",
      "env is imported\n",
      "[[0 0 0 0 0 2 0]\n",
      " [0 0 0 1 0 0 0]\n",
      " [4 4 4 0 4 4 4]\n",
      " [4 4 4 0 4 4 4]\n",
      " [4 4 4 0 4 4 4]\n",
      " [4 4 4 0 4 4 4]\n",
      " [9 0 0 0 0 0 8]] \n",
      "\n",
      "Drone at goal: False\n",
      "Drone at goal: False\n",
      "Observation space shape: (4,)\n",
      "Observation space sample: [-2 -3  3 -4]\n",
      "Action space shape: (2,)\n",
      "Action space sample: [0 3]\n"
     ]
    }
   ],
   "source": [
    "#import the environment\n",
    "import custom_environment_v15 as custom_environment\n",
    "#make the environment\n",
    "training_env = custom_environment.trainingEnv\n",
    "training_env.reset(randomReset=True)\n",
    "training_env.render()\n",
    "\n",
    "#check the environment\n",
    "print(\"Observation space shape:\", training_env.observation_space.shape)\n",
    "print(\"Observation space sample:\", training_env.observation_space.sample())\n",
    "print(\"Action space shape:\", training_env.action_space.shape)\n",
    "print(\"Action space sample:\", training_env.action_space.sample())"
   ]
  },
  {
   "cell_type": "code",
   "execution_count": 3,
   "metadata": {
    "metadata": {}
   },
   "outputs": [
    {
     "name": "stdout",
     "output_type": "stream",
     "text": [
      "[[0 0 0 1 0 0 0]\n",
      " [0 0 0 2 0 0 0]\n",
      " [4 4 4 0 4 4 4]\n",
      " [4 4 4 0 4 4 4]\n",
      " [4 4 4 0 4 4 4]\n",
      " [4 4 4 0 4 4 4]\n",
      " [9 0 0 0 0 0 8]] \n",
      "\n",
      "Drone at goal: False\n",
      "Drone at goal: False\n"
     ]
    }
   ],
   "source": [
    "from stable_baselines3.common.callbacks import EvalCallback\n",
    "\n",
    "# Separate evaluation env\n",
    "eval_env = custom_environment.limitedEvalEnv\n",
    "eval_env.reset(randomReset=False, scen=0)\n",
    "eval_env.render()\n",
    "\n",
    "best_model_save_name = './narrow_pass_warmed_sev_policyF'\n",
    "log_file = './narrow_pass_warmed_sev_policyF_log_files'\n",
    "\n",
    "eval_freq = 2000\n",
    "n_eval_episodes = 77\n",
    "\n",
    "# Use deterministic actions for evaluation\n",
    "eval_callback = EvalCallback(eval_env, best_model_save_path=best_model_save_name,\n",
    "                             log_path=log_file, eval_freq=eval_freq,\n",
    "                             deterministic=True, render=False, verbose=0, n_eval_episodes=n_eval_episodes)\n",
    "                             "
   ]
  },
  {
   "cell_type": "markdown",
   "metadata": {},
   "source": []
  },
  {
   "cell_type": "code",
   "execution_count": 4,
   "metadata": {
    "metadata": {}
   },
   "outputs": [
    {
     "name": "stdout",
     "output_type": "stream",
     "text": [
      "fixed scenario: 1\n"
     ]
    },
    {
     "data": {
      "text/plain": [
       "<stable_baselines3.ppo.ppo.PPO at 0x7f0b38eda160>"
      ]
     },
     "execution_count": 4,
     "metadata": {},
     "output_type": "execute_result"
    }
   ],
   "source": [
    "# Load the best model from previous training\n",
    "previous_best_model_save_path = './ten_by_ten_base5/best_model.zip'\n",
    "previous_best_model = PPO.load(previous_best_model_save_path)\n",
    "\n",
    "# Create a new PPO model for further training\n",
    "new_model = PPO(\"MlpPolicy\", training_env, verbose=0, tensorboard_log='./ppo_tensorboard', gamma=0.99)\n",
    "\n",
    "# Set the policy parameters of the new model to the ones from the best_model\n",
    "new_model.policy.load_state_dict(previous_best_model.policy.state_dict())\n",
    "\n",
    "\n",
    "training_env.reset()\n",
    "eval_env.reset(scen=1)\n",
    "\n",
    "# Continue training with the new model\n",
    "new_model.learn(total_timesteps=1000000, callback=eval_callback)"
   ]
  },
  {
   "cell_type": "code",
   "execution_count": 6,
   "metadata": {
    "metadata": {}
   },
   "outputs": [],
   "source": [
    "#load the best new model\n",
    "best_new_model_save_path = './narrow_pass_warmed_sev_policyF/best_model.zip'\n",
    "best_new_model = PPO.load(best_new_model_save_path)\n",
    "best_new_model.set_env(eval_env, force_reset=True)"
   ]
  },
  {
   "cell_type": "code",
   "execution_count": 14,
   "metadata": {
    "metadata": {}
   },
   "outputs": [
    {
     "name": "stdout",
     "output_type": "stream",
     "text": [
      "Total successful episodes: 1000\n",
      "average system rewards: 151.558\n",
      "total crash count: 6828\n",
      "episodes without collisions: 165\n",
      "scenario_number: 1001\n"
     ]
    }
   ],
   "source": [
    "#open a csv file to write to to log results\n",
    "with open('narrow_pass_warmed_base.csv', mode='w') as file:\n",
    "    write = csv.writer(file)\n",
    "    #initialize the number of total successful episodes\n",
    "    total_successful_episodes = 0\n",
    "    total_system_rewards = 0\n",
    "    total_crash_count = 0\n",
    "    scenario_number=1\n",
    "    episodes_without_collisions = 0\n",
    "    #run x episodes\n",
    "    for episode in range(1000):\n",
    "        #reset the environment and store the initial observation\n",
    "        observations = eval_env.reset(randomReset=True)\n",
    "        #print(observations)\n",
    "        #eval_env.render()\n",
    "        #reset total episode rewards\n",
    "        total_episode_rewards = 0\n",
    "        #set done to false and then complete the code below while the episode is not done\n",
    "        done = False\n",
    "        while not done:\n",
    "            action, _ = best_new_model.predict(observations, deterministic=True)\n",
    "            observations, rewards, termination, info = eval_env.step(action)\n",
    "            #print(observations)\n",
    "            #add the rewards to the total episode rewards\n",
    "            total_episode_rewards += rewards\n",
    "            #if all of the drones are terminated, set done to true\n",
    "            if termination == True:\n",
    "                done = True\n",
    "            #render the environment (save for when running a small amount of episodes)\n",
    "            #eval_env.render()\n",
    "            #add a time sleep for when rendering the environment so it doesn't go too fast\n",
    "            #time.sleep(1.8)\n",
    "            #clear the output when rendering so it flashes as the environment is updated\n",
    "            #clear_output(wait=True)\n",
    "            #print(total_episode_rewards)\n",
    "        if info['reached_goals'] == True:\n",
    "            total_successful_episodes += 1\n",
    "        if info['crash_count'] == 0:\n",
    "            episodes_without_collisions += 1\n",
    "    \n",
    "        total_crash_count += info['crash_count']\n",
    "        total_system_rewards += total_episode_rewards\n",
    "        #write the rewards to a csv file\n",
    "        write.writerow([(episode+1), total_episode_rewards])\n",
    "        scenario_number+=1\n",
    "print(\"Total successful episodes: {}\".format(total_successful_episodes))\n",
    "print(\"average system rewards: {}\".format(total_system_rewards/(episode+1)))\n",
    "print('total crash count:', total_crash_count)\n",
    "print('episodes without collisions:', episodes_without_collisions)\n",
    "\n",
    "\n",
    "print('scenario_number:', scenario_number)"
   ]
  },
  {
   "cell_type": "code",
   "execution_count": 15,
   "metadata": {
    "metadata": {}
   },
   "outputs": [
    {
     "data": {
      "image/png": "[encoded data removed]",
      "text/plain": [
       "<Figure size 640x480 with 1 Axes>"
      ]
     },
     "metadata": {},
     "output_type": "display_data"
    }
   ],
   "source": [
    "import pandas as pd\n",
    "import matplotlib.pyplot as plt\n",
    "\n",
    "# Plot the rewards from the CSV file\n",
    "df = pd.read_csv('narrow_pass_warmed_base.csv', header=None)\n",
    "\n",
    "# Plot the first column as the x-axis and the second column as the y-axis\n",
    "plt.scatter(df.iloc[:, 0], df.iloc[:, 1])\n",
    "plt.xlabel('Episode')\n",
    "plt.ylabel('Total rewards')\n",
    "plt.title('Total rewards per episode')\n",
    "plt.show()"
   ]
  }
 ],
 "metadata": {
  "kernelspec": {
   "display_name": "myEnv",
   "language": "python",
   "name": "python3"
  },
  "language_info": {
   "codemirror_mode": {
    "name": "ipython",
    "version": 3
   },
   "file_extension": ".py",
   "mimetype": "text/x-python",
   "name": "python",
   "nbconvert_exporter": "python",
   "pygments_lexer": "ipython3",
   "version": "3.8.0"
  }
 },
 "nbformat": 4,
 "nbformat_minor": 2
}
